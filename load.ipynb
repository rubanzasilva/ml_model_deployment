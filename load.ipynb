{
 "cells": [
  {
   "cell_type": "markdown",
   "metadata": {},
   "source": [
    "# Exploring mental health - Introduction - Binary Classification and Deployment with fastai and BentoML.\n",
    "\n",
    "I use data from a mental health survey to explore factors that may cause individuals to experience depression and use this to classify whether an individual is at risk of depression or not.\n",
    "\n",
    "The data used for this was synthetically generated from the Depression Survey/Dataset which you can find [here](https://www.kaggle.com/datasets/sumansharmadataworld/depression-surveydataset-for-analysis). The original dataset was collected from a survey carried out among adults aimed at understanding depression risk factors based on inputs provided by particpants in the survey.\n",
    "\n",
    "> Quoting the dataset description, This dataset was collected as part of a comprehensive survey aimed at understanding the factors contributing\n",
    "> to depression risk among adults. It was collected during an anonymous survey conducted between January and June 2023. The survey was conducted\n",
    "> across various cities, targeting individuals from diverse backgrounds and professions. Participants, ranging from 18 to 60 years old, \n",
    "> voluntarily provided inputs on factors such as age, gender, city, degree, job satisfaction, study satisfaction, study/work hours, and family \n",
    "> history among others. Participants were asked to provide inputs without requiring any professional mental health assessments or diagnostic \n",
    "> test scores.\n",
    "\n",
    "The target variable is either \"0\" or \"1\" hence our goal here will be to predict the target class which represent \"Yes\" and \"1\".\n",
    "\n",
    "Exploring this dataset can help us understand and provide key insights into how everyday factors contribute to our mental health. I originally built this as a solution to the exploring mental health data kaggle competition. You can find the solution link [here](https://www.kaggle.com/code/rubanzasilva/eda-gradient-boosting-neural-nets-s04e11).\n",
    "\n",
    "My goal for this was to deploy the model I built for the above competition. To do this, I serve the model with bentoml, then deploy the model to a cloud provider (bento cloud). This gives me an API that can be used when building our user interface for end-user interaction or integrating our predictions into existing solutions."
   ]
  },
  {
   "cell_type": "markdown",
   "metadata": {},
   "source": [
    "## Library Imports\n",
    "We start by importing the libraries we shall need to build the solution. To install the neccesary libraries before hand. Run **pip install requirements.txt** via your terminal while in this project directory. This will automatically install the dependencies defined in the requirements.txt file."
   ]
  },
  {
   "cell_type": "code",
   "execution_count": null,
   "metadata": {},
   "outputs": [],
   "source": [
    "import numpy as np\n",
    "from numpy import random\n",
    "#import fastbook\n",
    "#fastbook.setup_book()\n",
    "#from fastbook import *\n",
    "from fastai.tabular.all import *\n",
    "import pandas as pd\n",
    "#import matplotlib.pyplot as plt\n",
    "#from fastai.imports import *\n",
    "#np.set_printoptions(linewidth=130)\n",
    "from sklearn.ensemble import RandomForestClassifier\n",
    "from sklearn.metrics import accuracy_score\n",
    "from pathlib import Path\n",
    "import os\n",
    "import xgboost as xgb\n",
    "#from xgboost import plot_importance\n",
    "from xgboost import XGBClassifier\n",
    "import warnings\n",
    "import gc\n",
    "import pickle\n",
    "from joblib import dump, load\n",
    "import typing as t\n",
    "import bentoml\n",
    "from bentoml.validators import DataframeSchema\n",
    "\n",
    "torch.manual_seed(42)"
   ]
  },
  {
   "cell_type": "markdown",
   "metadata": {},
   "source": [
    "## Define data path / location"
   ]
  },
  {
   "cell_type": "code",
   "execution_count": 2,
   "metadata": {},
   "outputs": [],
   "source": [
    "path = Path('data/')\n",
    "\n",
    "train_df = pd.read_csv(path/'train.csv',index_col='id')\n",
    "test_df = pd.read_csv(path/'test.csv',index_col='id')\n",
    "sub_df = pd.read_csv(path/'sample_submission.csv')"
   ]
  },
  {
   "cell_type": "markdown",
   "metadata": {},
   "source": [
    "## Data Preprocessing\n",
    "\n",
    "Below I prepare my data for machine learning using the below fastai functions. Once my data is in a suitable format for machine learning training, we pass it to an XGBoost model which is a popular gradient boosting based framework that works quite efficiently for tabular data.\n",
    "\n",
    "First, we define categorical and continuous variables, I use the fastai [cont_cat_split](https://docs.fast.ai/tabular.core.html#cont_cat_split) function to separate my dataset variables into categorical and continuous variables based on the cardinality of my column values.\n",
    "\n",
    "This takes an argument max card whose default is 20. If the number of unique values is above 20 (max_card value) for a particular column, that column is considered continuous, and vice versa."
   ]
  },
  {
   "cell_type": "code",
   "execution_count": 3,
   "metadata": {},
   "outputs": [],
   "source": [
    "cont_names,cat_names = cont_cat_split(train_df, dep_var='Depression')"
   ]
  },
  {
   "cell_type": "markdown",
   "metadata": {},
   "source": [
    "### Split into training and validation set \n",
    "The [RandomSplitter](https://docs.fast.ai/data.transforms.html#randomsplitter) below separates the training set into a training and validation set based on the value of the argument valid_pct."
   ]
  },
  {
   "cell_type": "code",
   "execution_count": 4,
   "metadata": {},
   "outputs": [],
   "source": [
    "splits = RandomSplitter(valid_pct=0.2)(range_of(train_df))"
   ]
  },
  {
   "cell_type": "markdown",
   "metadata": {},
   "source": [
    "### TabularPandas\n",
    "Below we define a [TabularPandas](https://docs.fast.ai/tabular.core.html#tabularpandas) object.\n",
    "Here we declare the continuous and categorical columns, the dataset splitting strategy, the preprocessing steps to apply to our datasets, the dependent variable which is what we are predicting, and the type of problem we are optimizing for such as binary classification in this case.\n",
    "\n"
   ]
  },
  {
   "cell_type": "code",
   "execution_count": 5,
   "metadata": {},
   "outputs": [
    {
     "name": "stderr",
     "output_type": "stream",
     "text": [
      "/home/rubanza/.local/lib/python3.10/site-packages/fastai/tabular/core.py:314: FutureWarning: A value is trying to be set on a copy of a DataFrame or Series through chained assignment using an inplace method.\n",
      "The behavior will change in pandas 3.0. This inplace method will never work because the intermediate object on which we are setting values always behaves as a copy.\n",
      "\n",
      "For example, when doing 'df[col].method(value, inplace=True)', try using 'df.method({col: value}, inplace=True)' or df[col] = df[col].method(value) instead, to perform the operation inplace on the original object.\n",
      "\n",
      "\n",
      "  to[n].fillna(self.na_dict[n], inplace=True)\n",
      "/home/rubanza/.local/lib/python3.10/site-packages/fastai/tabular/core.py:314: FutureWarning: A value is trying to be set on a copy of a DataFrame or Series through chained assignment using an inplace method.\n",
      "The behavior will change in pandas 3.0. This inplace method will never work because the intermediate object on which we are setting values always behaves as a copy.\n",
      "\n",
      "For example, when doing 'df[col].method(value, inplace=True)', try using 'df.method({col: value}, inplace=True)' or df[col] = df[col].method(value) instead, to perform the operation inplace on the original object.\n",
      "\n",
      "\n",
      "  to[n].fillna(self.na_dict[n], inplace=True)\n",
      "/home/rubanza/.local/lib/python3.10/site-packages/fastai/tabular/core.py:314: FutureWarning: A value is trying to be set on a copy of a DataFrame or Series through chained assignment using an inplace method.\n",
      "The behavior will change in pandas 3.0. This inplace method will never work because the intermediate object on which we are setting values always behaves as a copy.\n",
      "\n",
      "For example, when doing 'df[col].method(value, inplace=True)', try using 'df.method({col: value}, inplace=True)' or df[col] = df[col].method(value) instead, to perform the operation inplace on the original object.\n",
      "\n",
      "\n",
      "  to[n].fillna(self.na_dict[n], inplace=True)\n",
      "/home/rubanza/.local/lib/python3.10/site-packages/fastai/tabular/core.py:314: FutureWarning: A value is trying to be set on a copy of a DataFrame or Series through chained assignment using an inplace method.\n",
      "The behavior will change in pandas 3.0. This inplace method will never work because the intermediate object on which we are setting values always behaves as a copy.\n",
      "\n",
      "For example, when doing 'df[col].method(value, inplace=True)', try using 'df.method({col: value}, inplace=True)' or df[col] = df[col].method(value) instead, to perform the operation inplace on the original object.\n",
      "\n",
      "\n",
      "  to[n].fillna(self.na_dict[n], inplace=True)\n",
      "/home/rubanza/.local/lib/python3.10/site-packages/fastai/tabular/core.py:314: FutureWarning: A value is trying to be set on a copy of a DataFrame or Series through chained assignment using an inplace method.\n",
      "The behavior will change in pandas 3.0. This inplace method will never work because the intermediate object on which we are setting values always behaves as a copy.\n",
      "\n",
      "For example, when doing 'df[col].method(value, inplace=True)', try using 'df.method({col: value}, inplace=True)' or df[col] = df[col].method(value) instead, to perform the operation inplace on the original object.\n",
      "\n",
      "\n",
      "  to[n].fillna(self.na_dict[n], inplace=True)\n",
      "/home/rubanza/.local/lib/python3.10/site-packages/fastai/tabular/core.py:314: FutureWarning: A value is trying to be set on a copy of a DataFrame or Series through chained assignment using an inplace method.\n",
      "The behavior will change in pandas 3.0. This inplace method will never work because the intermediate object on which we are setting values always behaves as a copy.\n",
      "\n",
      "For example, when doing 'df[col].method(value, inplace=True)', try using 'df.method({col: value}, inplace=True)' or df[col] = df[col].method(value) instead, to perform the operation inplace on the original object.\n",
      "\n",
      "\n",
      "  to[n].fillna(self.na_dict[n], inplace=True)\n"
     ]
    }
   ],
   "source": [
    "to = TabularPandas(train_df, procs=[Categorify, FillMissing,Normalize],\n",
    "#to = TabularPandas(train_df, procs=[Categorify,Normalize],\n",
    "                   cat_names = cat_names,\n",
    "                   cont_names = cont_names,\n",
    "                   y_names='Depression',\n",
    "                   y_block=CategoryBlock(),\n",
    "                   splits=splits)"
   ]
  },
  {
   "cell_type": "markdown",
   "metadata": {},
   "source": [
    "### DataLoaders\n",
    "We define a dataloaders which prepares our data for input into our neural network.Here we can define our batch size."
   ]
  },
  {
   "cell_type": "code",
   "execution_count": 6,
   "metadata": {},
   "outputs": [
    {
     "name": "stderr",
     "output_type": "stream",
     "text": [
      "/home/rubanza/.local/lib/python3.10/site-packages/fastai/tabular/core.py:314: FutureWarning: A value is trying to be set on a copy of a DataFrame or Series through chained assignment using an inplace method.\n",
      "The behavior will change in pandas 3.0. This inplace method will never work because the intermediate object on which we are setting values always behaves as a copy.\n",
      "\n",
      "For example, when doing 'df[col].method(value, inplace=True)', try using 'df.method({col: value}, inplace=True)' or df[col] = df[col].method(value) instead, to perform the operation inplace on the original object.\n",
      "\n",
      "\n",
      "  to[n].fillna(self.na_dict[n], inplace=True)\n",
      "/home/rubanza/.local/lib/python3.10/site-packages/fastai/tabular/core.py:314: FutureWarning: A value is trying to be set on a copy of a DataFrame or Series through chained assignment using an inplace method.\n",
      "The behavior will change in pandas 3.0. This inplace method will never work because the intermediate object on which we are setting values always behaves as a copy.\n",
      "\n",
      "For example, when doing 'df[col].method(value, inplace=True)', try using 'df.method({col: value}, inplace=True)' or df[col] = df[col].method(value) instead, to perform the operation inplace on the original object.\n",
      "\n",
      "\n",
      "  to[n].fillna(self.na_dict[n], inplace=True)\n",
      "/home/rubanza/.local/lib/python3.10/site-packages/fastai/tabular/core.py:314: FutureWarning: A value is trying to be set on a copy of a DataFrame or Series through chained assignment using an inplace method.\n",
      "The behavior will change in pandas 3.0. This inplace method will never work because the intermediate object on which we are setting values always behaves as a copy.\n",
      "\n",
      "For example, when doing 'df[col].method(value, inplace=True)', try using 'df.method({col: value}, inplace=True)' or df[col] = df[col].method(value) instead, to perform the operation inplace on the original object.\n",
      "\n",
      "\n",
      "  to[n].fillna(self.na_dict[n], inplace=True)\n",
      "/home/rubanza/.local/lib/python3.10/site-packages/fastai/tabular/core.py:314: FutureWarning: A value is trying to be set on a copy of a DataFrame or Series through chained assignment using an inplace method.\n",
      "The behavior will change in pandas 3.0. This inplace method will never work because the intermediate object on which we are setting values always behaves as a copy.\n",
      "\n",
      "For example, when doing 'df[col].method(value, inplace=True)', try using 'df.method({col: value}, inplace=True)' or df[col] = df[col].method(value) instead, to perform the operation inplace on the original object.\n",
      "\n",
      "\n",
      "  to[n].fillna(self.na_dict[n], inplace=True)\n",
      "/home/rubanza/.local/lib/python3.10/site-packages/fastai/tabular/core.py:314: FutureWarning: A value is trying to be set on a copy of a DataFrame or Series through chained assignment using an inplace method.\n",
      "The behavior will change in pandas 3.0. This inplace method will never work because the intermediate object on which we are setting values always behaves as a copy.\n",
      "\n",
      "For example, when doing 'df[col].method(value, inplace=True)', try using 'df.method({col: value}, inplace=True)' or df[col] = df[col].method(value) instead, to perform the operation inplace on the original object.\n",
      "\n",
      "\n",
      "  to[n].fillna(self.na_dict[n], inplace=True)\n",
      "/home/rubanza/.local/lib/python3.10/site-packages/fastai/tabular/core.py:314: FutureWarning: A value is trying to be set on a copy of a DataFrame or Series through chained assignment using an inplace method.\n",
      "The behavior will change in pandas 3.0. This inplace method will never work because the intermediate object on which we are setting values always behaves as a copy.\n",
      "\n",
      "For example, when doing 'df[col].method(value, inplace=True)', try using 'df.method({col: value}, inplace=True)' or df[col] = df[col].method(value) instead, to perform the operation inplace on the original object.\n",
      "\n",
      "\n",
      "  to[n].fillna(self.na_dict[n], inplace=True)\n"
     ]
    }
   ],
   "source": [
    "dls = to.dataloaders(bs=64)\n",
    "#dls = to.dataloaders(bs=1024)\n",
    "test_dl = dls.test_dl(test_df)"
   ]
  },
  {
   "cell_type": "markdown",
   "metadata": {},
   "source": [
    "### Fastai intergation with other libraries\n",
    "\n",
    "To quote the fastai documentation\n",
    "> Integration with libraries such as Random Forests and XGBoost requires only one extra step, that the .dataloaders call did for us. Let’s look\n",
    "> at our to again. Its values are stored in a DataFrame like object, where we can extract the cats, conts, xs and ys if we want to:"
   ]
  },
  {
   "cell_type": "code",
   "execution_count": 7,
   "metadata": {},
   "outputs": [
    {
     "data": {
      "text/html": [
       "<div>\n",
       "<style scoped>\n",
       "    .dataframe tbody tr th:only-of-type {\n",
       "        vertical-align: middle;\n",
       "    }\n",
       "\n",
       "    .dataframe tbody tr th {\n",
       "        vertical-align: top;\n",
       "    }\n",
       "\n",
       "    .dataframe thead th {\n",
       "        text-align: right;\n",
       "    }\n",
       "</style>\n",
       "<table border=\"1\" class=\"dataframe\">\n",
       "  <thead>\n",
       "    <tr style=\"text-align: right;\">\n",
       "      <th></th>\n",
       "      <th>Name</th>\n",
       "      <th>Gender</th>\n",
       "      <th>City</th>\n",
       "      <th>Working Professional or Student</th>\n",
       "      <th>Profession</th>\n",
       "      <th>Sleep Duration</th>\n",
       "      <th>Dietary Habits</th>\n",
       "      <th>Degree</th>\n",
       "      <th>Have you ever had suicidal thoughts ?</th>\n",
       "      <th>Family History of Mental Illness</th>\n",
       "      <th>...</th>\n",
       "      <th>Job Satisfaction_na</th>\n",
       "      <th>Financial Stress_na</th>\n",
       "      <th>Age</th>\n",
       "      <th>Academic Pressure</th>\n",
       "      <th>Work Pressure</th>\n",
       "      <th>CGPA</th>\n",
       "      <th>Study Satisfaction</th>\n",
       "      <th>Job Satisfaction</th>\n",
       "      <th>Work/Study Hours</th>\n",
       "      <th>Financial Stress</th>\n",
       "    </tr>\n",
       "    <tr>\n",
       "      <th>id</th>\n",
       "      <th></th>\n",
       "      <th></th>\n",
       "      <th></th>\n",
       "      <th></th>\n",
       "      <th></th>\n",
       "      <th></th>\n",
       "      <th></th>\n",
       "      <th></th>\n",
       "      <th></th>\n",
       "      <th></th>\n",
       "      <th></th>\n",
       "      <th></th>\n",
       "      <th></th>\n",
       "      <th></th>\n",
       "      <th></th>\n",
       "      <th></th>\n",
       "      <th></th>\n",
       "      <th></th>\n",
       "      <th></th>\n",
       "      <th></th>\n",
       "      <th></th>\n",
       "    </tr>\n",
       "  </thead>\n",
       "  <tbody>\n",
       "    <tr>\n",
       "      <th>129184</th>\n",
       "      <td>120</td>\n",
       "      <td>2</td>\n",
       "      <td>59</td>\n",
       "      <td>2</td>\n",
       "      <td>15</td>\n",
       "      <td>16</td>\n",
       "      <td>16</td>\n",
       "      <td>20</td>\n",
       "      <td>1</td>\n",
       "      <td>2</td>\n",
       "      <td>...</td>\n",
       "      <td>1</td>\n",
       "      <td>1</td>\n",
       "      <td>1.422830</td>\n",
       "      <td>-0.04561</td>\n",
       "      <td>1.591172</td>\n",
       "      <td>0.033461</td>\n",
       "      <td>0.01841</td>\n",
       "      <td>-1.561847</td>\n",
       "      <td>-0.842910</td>\n",
       "      <td>0.714559</td>\n",
       "    </tr>\n",
       "    <tr>\n",
       "      <th>45392</th>\n",
       "      <td>184</td>\n",
       "      <td>2</td>\n",
       "      <td>87</td>\n",
       "      <td>2</td>\n",
       "      <td>4</td>\n",
       "      <td>30</td>\n",
       "      <td>16</td>\n",
       "      <td>90</td>\n",
       "      <td>2</td>\n",
       "      <td>2</td>\n",
       "      <td>...</td>\n",
       "      <td>1</td>\n",
       "      <td>1</td>\n",
       "      <td>0.777218</td>\n",
       "      <td>-0.04561</td>\n",
       "      <td>-0.794526</td>\n",
       "      <td>0.033461</td>\n",
       "      <td>0.01841</td>\n",
       "      <td>-1.561847</td>\n",
       "      <td>-0.065067</td>\n",
       "      <td>0.714559</td>\n",
       "    </tr>\n",
       "    <tr>\n",
       "      <th>40955</th>\n",
       "      <td>218</td>\n",
       "      <td>1</td>\n",
       "      <td>38</td>\n",
       "      <td>2</td>\n",
       "      <td>56</td>\n",
       "      <td>28</td>\n",
       "      <td>21</td>\n",
       "      <td>76</td>\n",
       "      <td>1</td>\n",
       "      <td>2</td>\n",
       "      <td>...</td>\n",
       "      <td>1</td>\n",
       "      <td>1</td>\n",
       "      <td>0.373710</td>\n",
       "      <td>-0.04561</td>\n",
       "      <td>0.795939</td>\n",
       "      <td>0.033461</td>\n",
       "      <td>0.01841</td>\n",
       "      <td>-0.772831</td>\n",
       "      <td>0.194214</td>\n",
       "      <td>-1.406225</td>\n",
       "    </tr>\n",
       "  </tbody>\n",
       "</table>\n",
       "<p>3 rows × 24 columns</p>\n",
       "</div>"
      ],
      "text/plain": [
       "        Name  Gender  City  Working Professional or Student  Profession  \\\n",
       "id                                                                        \n",
       "129184   120       2    59                                2          15   \n",
       "45392    184       2    87                                2           4   \n",
       "40955    218       1    38                                2          56   \n",
       "\n",
       "        Sleep Duration  Dietary Habits  Degree  \\\n",
       "id                                               \n",
       "129184              16              16      20   \n",
       "45392               30              16      90   \n",
       "40955               28              21      76   \n",
       "\n",
       "        Have you ever had suicidal thoughts ?  \\\n",
       "id                                              \n",
       "129184                                      1   \n",
       "45392                                       2   \n",
       "40955                                       1   \n",
       "\n",
       "        Family History of Mental Illness  ...  Job Satisfaction_na  \\\n",
       "id                                        ...                        \n",
       "129184                                 2  ...                    1   \n",
       "45392                                  2  ...                    1   \n",
       "40955                                  2  ...                    1   \n",
       "\n",
       "        Financial Stress_na       Age  Academic Pressure  Work Pressure  \\\n",
       "id                                                                        \n",
       "129184                    1  1.422830           -0.04561       1.591172   \n",
       "45392                     1  0.777218           -0.04561      -0.794526   \n",
       "40955                     1  0.373710           -0.04561       0.795939   \n",
       "\n",
       "            CGPA  Study Satisfaction  Job Satisfaction  Work/Study Hours  \\\n",
       "id                                                                         \n",
       "129184  0.033461             0.01841         -1.561847         -0.842910   \n",
       "45392   0.033461             0.01841         -1.561847         -0.065067   \n",
       "40955   0.033461             0.01841         -0.772831          0.194214   \n",
       "\n",
       "        Financial Stress  \n",
       "id                        \n",
       "129184          0.714559  \n",
       "45392           0.714559  \n",
       "40955          -1.406225  \n",
       "\n",
       "[3 rows x 24 columns]"
      ]
     },
     "execution_count": 7,
     "metadata": {},
     "output_type": "execute_result"
    }
   ],
   "source": [
    "to.xs[:3]"
   ]
  },
  {
   "cell_type": "markdown",
   "metadata": {},
   "source": [
    "> Now that everything is encoded, you can then send this off to XGBoost or Random Forests by extracting the train and validation sets and their\n",
    "> values:"
   ]
  },
  {
   "cell_type": "code",
   "execution_count": 8,
   "metadata": {},
   "outputs": [],
   "source": [
    "X_train, y_train = to.train.xs, to.train.ys.values.ravel()\n",
    "X_test, y_test = to.valid.xs, to.valid.ys.values.ravel()"
   ]
  },
  {
   "cell_type": "markdown",
   "metadata": {},
   "source": [
    "## Train and save a model\n",
    "\n",
    "We can now use the above directly with our XGBoost library. The below code calls trains a XGBoost Classifier model."
   ]
  },
  {
   "cell_type": "code",
   "execution_count": 9,
   "metadata": {},
   "outputs": [],
   "source": [
    "xgb_model = xgb.XGBClassifier()\n",
    "xgb_model = xgb_model.fit(X_train, y_train)\n",
    "\n",
    "#xgb_preds = tensor(xgb_model.predict(test_dl.xs))\n",
    "#xgb_preds_x = tensor(xgb_model.predict(X_test))\n",
    "#accuracy = accuracy_score(y_test, xgb_preds_x)\n",
    "#print(f\"Model accuracy: {accuracy}\")"
   ]
  },
  {
   "cell_type": "markdown",
   "metadata": {},
   "source": [
    "After training, we use the **bentoml.xgboost.save_model** API to save the model to the bentoml model store. This is a local storage that bentoml has to store and manage models etc. This models can be accessed later by calling them and they can be used to make new predictions."
   ]
  },
  {
   "cell_type": "code",
   "execution_count": 10,
   "metadata": {},
   "outputs": [
    {
     "data": {
      "text/plain": [
       "Model(tag=\"mental_health_v1:qud2aig33o5qbjo7\", path=\"/home/rubanza/bentoml/models/mental_health_v1/qud2aig33o5qbjo7/\")"
      ]
     },
     "execution_count": 10,
     "metadata": {},
     "output_type": "execute_result"
    }
   ],
   "source": [
    "bentoml.xgboost.save_model(\"mental_health_v1\", xgb_model)"
   ]
  },
  {
   "cell_type": "markdown",
   "metadata": {},
   "source": [
    "We can check for our model by running the below code."
   ]
  },
  {
   "cell_type": "code",
   "execution_count": null,
   "metadata": {},
   "outputs": [
    {
     "name": "stdout",
     "output_type": "stream",
     "text": [
      "\u001b[1m \u001b[0m\u001b[1mTag                         \u001b[0m\u001b[1m \u001b[0m\u001b[1m \u001b[0m\u001b[1mModule         \u001b[0m\u001b[1m \u001b[0m\u001b[1m \u001b[0m\u001b[1mSize      \u001b[0m\u001b[1m \u001b[0m\u001b[1m \u001b[0m\u001b[1mCreation Time      \u001b[0m\u001b[1m \u001b[0m\n",
      " mental_health_v1:qud2aig33o…  bentoml.xgboost  432.87 KiB  2025-01-26 14:48:54 \n",
      " mental_health_v1:2plmd4g32c…  bentoml.xgboost  421.24 KiB  2025-01-26 13:32:22 \n",
      " mental_health_v1:axqqhmg3z6…  bentoml.xgboost  421.24 KiB  2025-01-26 13:19:27 \n",
      " mental_health_v1:iz77zng3ec…  bentoml.xgboost  421.24 KiB  2025-01-25 16:28:34 \n",
      " mental_health_v1:4qpareg3d6…  bentoml.xgboost  421.24 KiB  2025-01-25 16:25:48 \n",
      " sticker_sales_v1:lhotw4gyr6…  bentoml.xgboost  476.22 KiB  2025-01-22 10:06:07 \n",
      " mental_health_v1:exbjk3wm4k…  bentoml.xgboost  421.24 KiB  2025-01-07 13:28:34 \n"
     ]
    }
   ],
   "source": [
    "!bentoml models list\n",
    "#if running via terminal, use bentoml model list directly."
   ]
  },
  {
   "cell_type": "markdown",
   "metadata": {},
   "source": [
    "### Test the model\n",
    "\n",
    "The previous cell outputs the models we have saved\n",
    "\n",
    "| Tag | Module | Size | Creation Time |\n",
    "|-----|--------|------|---------------|\n",
    "| mental_health_v1:qud2aig33o… | bentoml.xgboost | 432.87 KiB | 2025-01-26 14:48:54 |\n",
    "\n",
    "Our next mode is to test the model we have just saved. This ensures that the model we saved runs as expected. \n",
    "We start by loading our saved model mental_health_v1:qud2aig33o5qbjo7."
   ]
  },
  {
   "cell_type": "code",
   "execution_count": 13,
   "metadata": {},
   "outputs": [],
   "source": [
    "# Load the model by setting the model tag\n",
    "booster = bentoml.xgboost.load_model(\"mental_health_v1:qud2aig33o5qbjo7\")"
   ]
  },
  {
   "cell_type": "code",
   "execution_count": 14,
   "metadata": {},
   "outputs": [
    {
     "name": "stdout",
     "output_type": "stream",
     "text": [
      "tensor([0, 0, 0,  ..., 0, 1, 0])\n"
     ]
    }
   ],
   "source": [
    "# Uncomment cells if running this test case in a separate file\n",
    "#path = Path('data/')\n",
    "#test_df = pd.read_csv(path/'test.csv',index_col='id')\n",
    "#train_df = pd.read_csv(path/'train.csv',index_col='id')\n",
    "#cont_names,cat_names = cont_cat_split(train_df, dep_var='Depression')\n",
    "#splits = RandomSplitter(valid_pct=0.2)(range_of(train_df))\n",
    "#to = TabularPandas(train_df, procs=[Categorify, FillMissing,Normalize],\n",
    "#to = TabularPandas(train_df, procs=[Categorify,Normalize],\n",
    "                   #cat_names = cat_names,\n",
    "                   #cont_names = cont_names,\n",
    "                   #y_names='Depression',\n",
    "                   #y_block=CategoryBlock(),\n",
    "                   #splits=splits)\n",
    "#dls = to.dataloaders(bs=64)\n",
    "#test_dl = dls.test_dl(test_df)\n",
    "\n",
    "res = tensor(booster.predict(test_dl.xs))\n",
    "print(res)"
   ]
  },
  {
   "cell_type": "markdown",
   "metadata": {},
   "source": [
    "Expected results \n",
    "\n",
    "*tensor([0, 0, 0,  ..., 0, 1, 0])*"
   ]
  },
  {
   "cell_type": "markdown",
   "metadata": {},
   "source": [
    "## Create a BentoML service\n",
    "\n",
    "First, we use a **@bentoml.service** to define a bentoml service and also define additional configurations like reosurce allocation and timeout.\n",
    "\n",
    "I load our model from the model store and define it as a class variable. I then create a function **preprocess** to take in our input data and pass it through the same steps we did when training and testing our model.\n",
    "\n",
    "from here, we can use the **@bentoml.api** to expose our predict functions as API endpoints. This defines what our model input is for example below our predict function expects data in the form of a pandas data frame while our predict_csv function expects a CSV file as the name would suggest.\n",
    "\n",
    "Furthermore, I also define the expected output type which is a numpy array for the below cases. I then pass our data through the preprocessing function defined previously and finally return the new predictions on the test data."
   ]
  },
  {
   "cell_type": "code",
   "execution_count": 16,
   "metadata": {},
   "outputs": [
    {
     "name": "stderr",
     "output_type": "stream",
     "text": [
      "`bentoml.models.get()` as the class attribute is not recommended because it requires the model to exist at import time. Use `bento_model = BentoModel('mental_health_v1:qud2aig33o5qbjo7')` instead.\n"
     ]
    }
   ],
   "source": [
    "@bentoml.service(\n",
    "    resources={\"cpu\": \"8\"},\n",
    "    traffic={\"timeout\": 10},\n",
    ")\n",
    "\n",
    "class MentalHealthClassifier:\n",
    "    #retrieve the latest version of the model from the BentoML model store\n",
    "    bento_model = bentoml.models.get(\"mental_health_v1:latest\")\n",
    "    #bento_model = BentoModel('mental_health_v1:q5kcqtf5ys3qoaav')\n",
    "\n",
    "\n",
    "    def __init__(self):\n",
    "        self.model = bentoml.xgboost.load_model(self.bento_model)\n",
    "\n",
    "    def preprocess(self, data):\n",
    "        path = Path('data/')\n",
    "        train_df = pd.read_csv(path/'train.csv',index_col='id')\n",
    "        test_df = pd.read_csv(path/'test.csv',index_col='id')\n",
    "        cont_names,cat_names = cont_cat_split(train_df, dep_var='Depression')\n",
    "        splits = RandomSplitter(valid_pct=0.2)(range_of(train_df))\n",
    "        to = TabularPandas(train_df, procs=[Categorify, FillMissing,Normalize],\n",
    "                           cat_names = cat_names,\n",
    "                           cont_names = cont_names,\n",
    "                           y_names='Depression',\n",
    "                           y_block=CategoryBlock(),\n",
    "                           splits=splits)\n",
    "        dls = to.dataloaders(bs=64)\n",
    "        test_dl = dls.test_dl(data)\n",
    "        test_df_new = test_dl.xs\n",
    "        return test_df_new\n",
    "  \n",
    "\n",
    "    @bentoml.api\n",
    "    def predict(self, data:pd.DataFrame) -> np.ndarray:\n",
    "        data = self.preprocess(data)\n",
    "        prediction = self.model.predict(data)\n",
    "        #prediction = torch.tensor(prediction)\n",
    "        return prediction\n",
    " \n",
    "    \n",
    "    @bentoml.api()\n",
    "    def predict_csv(self,csv:Path) -> np.ndarray:\n",
    "        csv_data = pd.read_csv(csv)\n",
    "        csv_data = self.preprocess(csv_data)\n",
    "        prediction_csv = self.model.predict(csv_data)\n",
    "        return prediction_csv"
   ]
  },
  {
   "attachments": {
    "bentoml_service.png": {
     "image/png": "[encoded data removed]"
    }
   },
   "cell_type": "markdown",
   "metadata": {},
   "source": [
    "We then run this by running **bentoml serve service:MentalHealthClassifier** in our project directory which starts our service.\n",
    "\n",
    "The server is now active via http://localhost:3000/ as shown below. You can interact with it using swagger UI, CURL or with a python client.\n",
    "\n",
    "![bentoml_service.png](attachment:bentoml_service.png)"
   ]
  },
  {
   "cell_type": "markdown",
   "metadata": {},
   "source": [
    "## Deploy to a cloud provider\n",
    "\n",
    "We push our service to a cloud provider so other people can interact with our API."
   ]
  },
  {
   "cell_type": "code",
   "execution_count": null,
   "metadata": {},
   "outputs": [],
   "source": []
  }
 ],
 "metadata": {
  "kernelspec": {
   "display_name": "Python 3",
   "language": "python",
   "name": "python3"
  },
  "language_info": {
   "codemirror_mode": {
    "name": "ipython",
    "version": 3
   },
   "file_extension": ".py",
   "mimetype": "text/x-python",
   "name": "python",
   "nbconvert_exporter": "python",
   "pygments_lexer": "ipython3",
   "version": "3.10.12"
  }
 },
 "nbformat": 4,
 "nbformat_minor": 2
}
